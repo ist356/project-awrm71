{
 "cells": [
  {
   "cell_type": "code",
   "execution_count": 2,
   "metadata": {},
   "outputs": [
    {
     "name": "stdout",
     "output_type": "stream",
     "text": [
      "CSV file saved to: cache\\tournaments.csv\n"
     ]
    }
   ],
   "source": [
    "import csv\n",
    "import os\n",
    "\n",
    "# List of tournament data\n",
    "tournaments = [\n",
    "    {\n",
    "        \"Event Name\": \"Perfect World Shanghai Major 2024\",\n",
    "        \"Link\": \"https://www.hltv.org/events/7524/perfect-world-shanghai-major-2024\",\n",
    "        \"Start Date\": \"2024-12-01\",\n",
    "        \"End Date\": \"2024-12-10\",\n",
    "        \"Prize Pool\": \"$500,000\",\n",
    "        \"Teams\": 16,\n",
    "        \"Location\": \"Shanghai, China\"\n",
    "    },\n",
    "    {\n",
    "        \"Event Name\": \"Thunderpick World Championship 2024 Finals\",\n",
    "        \"Link\": \"https://www.hltv.org/events/7694/thunderpick-world-championship-2024-finals\",\n",
    "        \"Start Date\": \"2024-11-02\",\n",
    "        \"End Date\": \"2024-11-03\",\n",
    "        \"Prize Pool\": \"$770,000\",\n",
    "        \"Teams\": 4,\n",
    "        \"Location\": \"Berlin, Germany\"\n",
    "    },\n",
    "    {\n",
    "        \"Event Name\": \"BLAST Premier World Final 2024\",\n",
    "        \"Link\": \"https://www.hltv.org/events/7557/blast-premier-world-final-2024\",\n",
    "        \"Start Date\": \"2024-10-30\",\n",
    "        \"End Date\": \"2024-11-03\",\n",
    "        \"Prize Pool\": \"$1,000,000\",\n",
    "        \"Teams\": 8,\n",
    "        \"Location\": \"Sentosa, Singapore\"\n",
    "    },\n",
    "    {\n",
    "        \"Event Name\": \"IEM Rio 2024\",\n",
    "        \"Link\": \"https://www.hltv.org/events/7439/iem-rio-2024\",\n",
    "        \"Start Date\": \"2024-10-07\",\n",
    "        \"End Date\": \"2024-10-13\",\n",
    "        \"Prize Pool\": \"$250,000\",\n",
    "        \"Teams\": 16,\n",
    "        \"Location\": \"Rio de Janeiro, Brazil\"\n",
    "    },\n",
    "    {\n",
    "        \"Event Name\": \"BLAST Premier Fall Final 2024\",\n",
    "        \"Link\": \"https://www.hltv.org/events/7556/blast-premier-fall-final-2024\",\n",
    "        \"Start Date\": \"2024-09-25\",\n",
    "        \"End Date\": \"2024-09-29\",\n",
    "        \"Prize Pool\": \"$425,000\",\n",
    "        \"Teams\": 8,\n",
    "        \"Location\": \"Copenhagen, Denmark\"\n",
    "    },\n",
    "    {\n",
    "        \"Event Name\": \"Esports World Cup 2024\",\n",
    "        \"Link\": \"https://www.hltv.org/events/7732/esports-world-cup-2024\",\n",
    "        \"Start Date\": \"2024-07-17\",\n",
    "        \"End Date\": \"2024-07-21\",\n",
    "        \"Prize Pool\": \"$1,000,000\",\n",
    "        \"Teams\": 15,\n",
    "        \"Location\": \"Riyadh, Saudi Arabia\"\n",
    "    },\n",
    "    {\n",
    "        \"Event Name\": \"BLAST Premier Spring Final 2024\",\n",
    "        \"Link\": \"https://www.hltv.org/events/7485/blast-premier-spring-final-2024\",\n",
    "        \"Start Date\": \"2024-06-12\",\n",
    "        \"End Date\": \"2024-06-16\",\n",
    "        \"Prize Pool\": \"$425,000\",\n",
    "        \"Teams\": 8,\n",
    "        \"Location\": \"London, United Kingdom\"\n",
    "    },\n",
    "    {\n",
    "        \"Event Name\": \"IEM Dallas 2024\",\n",
    "        \"Link\": \"https://www.hltv.org/events/7438/iem-dallas-2024\",\n",
    "        \"Start Date\": \"2024-05-27\",\n",
    "        \"End Date\": \"2024-06-02\",\n",
    "        \"Prize Pool\": \"$250,000\",\n",
    "        \"Teams\": 16,\n",
    "        \"Location\": \"Dallas, TX, US\"\n",
    "    }\n",
    "]\n",
    "\n",
    "# Specify the file path to the cache folder\n",
    "csv_file = os.path.join(\"cache\", \"tournaments.csv\")\n",
    "\n",
    "# Ensure the 'cache' directory exists\n",
    "os.makedirs(\"cache\", exist_ok=True)\n",
    "\n",
    "# Write data to CSV\n",
    "with open(csv_file, mode='w', newline='') as file:\n",
    "    writer = csv.DictWriter(file, fieldnames=tournaments[0].keys())\n",
    "    writer.writeheader()\n",
    "    for tournament in tournaments:\n",
    "        writer.writerow(tournament)\n",
    "\n",
    "print(f\"CSV file saved to: {csv_file}\")\n"
   ]
  },
  {
   "cell_type": "code",
   "execution_count": 9,
   "metadata": {},
   "outputs": [
    {
     "ename": "NameError",
     "evalue": "name 'content' is not defined",
     "output_type": "error",
     "traceback": [
      "\u001b[1;31m---------------------------------------------------------------------------\u001b[0m",
      "\u001b[1;31mNameError\u001b[0m                                 Traceback (most recent call last)",
      "Cell \u001b[1;32mIn[9], line 3\u001b[0m\n\u001b[0;32m      1\u001b[0m \u001b[38;5;66;03m# Save page content to a file for debugging\u001b[39;00m\n\u001b[0;32m      2\u001b[0m \u001b[38;5;28;01mwith\u001b[39;00m \u001b[38;5;28mopen\u001b[39m(\u001b[38;5;124m\"\u001b[39m\u001b[38;5;124mdebug.html\u001b[39m\u001b[38;5;124m\"\u001b[39m, \u001b[38;5;124m\"\u001b[39m\u001b[38;5;124mw\u001b[39m\u001b[38;5;124m\"\u001b[39m, encoding\u001b[38;5;241m=\u001b[39m\u001b[38;5;124m\"\u001b[39m\u001b[38;5;124mutf-8\u001b[39m\u001b[38;5;124m\"\u001b[39m) \u001b[38;5;28;01mas\u001b[39;00m f:\n\u001b[1;32m----> 3\u001b[0m     f\u001b[38;5;241m.\u001b[39mwrite(\u001b[43mcontent\u001b[49m)\n\u001b[0;32m      4\u001b[0m \u001b[38;5;28mprint\u001b[39m(\u001b[38;5;124m\"\u001b[39m\u001b[38;5;124mPage content saved to debug.html for inspection.\u001b[39m\u001b[38;5;124m\"\u001b[39m)\n",
      "\u001b[1;31mNameError\u001b[0m: name 'content' is not defined"
     ]
    }
   ],
   "source": [
    "# Save page content to a file for debugging\n",
    "with open(\"debug.html\", \"w\", encoding=\"utf-8\") as f:\n",
    "    f.write(content)\n",
    "print(\"Page content saved to debug.html for inspection.\")\n"
   ]
  }
 ],
 "metadata": {
  "kernelspec": {
   "display_name": "Python 3",
   "language": "python",
   "name": "python3"
  },
  "language_info": {
   "codemirror_mode": {
    "name": "ipython",
    "version": 3
   },
   "file_extension": ".py",
   "mimetype": "text/x-python",
   "name": "python",
   "nbconvert_exporter": "python",
   "pygments_lexer": "ipython3",
   "version": "3.12.3"
  }
 },
 "nbformat": 4,
 "nbformat_minor": 2
}
